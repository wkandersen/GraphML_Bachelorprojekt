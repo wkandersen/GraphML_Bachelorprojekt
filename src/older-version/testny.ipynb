{
 "cells": [
  {
   "cell_type": "code",
   "execution_count": 11,
   "metadata": {},
   "outputs": [
    {
     "data": {
      "text/plain": [
       "Data(\n",
       "  num_nodes_dict={\n",
       "    author=1134649,\n",
       "    field_of_study=59965,\n",
       "    institution=8740,\n",
       "    paper=736389,\n",
       "  },\n",
       "  edge_index_dict={\n",
       "    (author, affiliated_with, institution)=[2, 1043998],\n",
       "    (author, writes, paper)=[2, 7145660],\n",
       "    (paper, cites, paper)=[2, 5416271],\n",
       "    (paper, has_topic, field_of_study)=[2, 7505078],\n",
       "  },\n",
       "  x_dict={ paper=[736389, 128] },\n",
       "  node_year={ paper=[736389, 1] },\n",
       "  edge_reltype={\n",
       "    (author, affiliated_with, institution)=[1043998, 1],\n",
       "    (author, writes, paper)=[7145660, 1],\n",
       "    (paper, cites, paper)=[5416271, 1],\n",
       "    (paper, has_topic, field_of_study)=[7505078, 1],\n",
       "  },\n",
       "  y_dict={ paper=[736389, 1] }\n",
       ")"
      ]
     },
     "execution_count": 11,
     "metadata": {},
     "output_type": "execute_result"
    }
   ],
   "source": [
    "import torch\n",
    "from torch_geometric.data import Data\n",
    "from torch_geometric.nn import SAGEConv\n",
    "import torch.nn.functional as F\n",
    "import torch.optim as optim\n",
    "import os\n",
    "from ogb.nodeproppred import PygNodePropPredDataset\n",
    "from torch_geometric.transforms import ToUndirected\n",
    "\n",
    "# torch.serialization.add_safe_globals([\"ogb.nodeproppred.dataset\"])\n",
    "\n",
    "# Download dataset\n",
    "# if \"ogbn-mag\" not in os.listdir(\"dataset\"):\n",
    "#     dataset = PygNodePropPredDataset(name = \"ogbn-mag\", root = \"dataset/\")\n",
    "\n",
    "# Load the processed dataset\n",
    "try:\n",
    "    data, _ = torch.load(r\"dataset/ogbn_mag/processed/geometric_data_processed.pt\", weights_only=False)\n",
    "except FileNotFoundError:\n",
    "    os.chdir(os.path.abspath(os.path.join(os.getcwd(), \"../\")))\n",
    "    data, _ = torch.load(r\"dataset/ogbn_mag/processed/geometric_data_processed.pt\", weights_only=False)\n",
    "\n",
    "# Extract the paper_cites_edge_index (for the paper -> cites -> paper relation)\n",
    "paper_cites_edge_index = data.edge_index_dict[('paper', 'cites', 'paper')]\n",
    "\n",
    "# Extract the paper node features (assuming paper feature is in data.x['paper'])\n",
    "paper_node_features = data.x_dict['paper']\n",
    "\n",
    "# Get the number of papers\n",
    "num_papers = paper_node_features.size(0)\n",
    "\n",
    "data\n"
   ]
  },
  {
   "cell_type": "code",
   "execution_count": 69,
   "metadata": {},
   "outputs": [
    {
     "data": {
      "text/plain": [
       "(tensor([     0,      0,      0,  ..., 140773, 140773, 140773]),\n",
       " tensor([ 27449, 121051, 151667,  ..., 126967, 150164, 234911]))"
      ]
     },
     "execution_count": 69,
     "metadata": {},
     "output_type": "execute_result"
    }
   ],
   "source": [
    "import pandas as pd\n",
    "\n",
    "train_idx = pd.read_csv(r\"dataset/ogbn_mag/split/time/paper/train.csv.gz\").values.squeeze()\n",
    "valid_idx = pd.read_csv(r\"dataset/ogbn_mag/split/time/paper/valid.csv.gz\").values.squeeze()\n",
    "test_idx = pd.read_csv(r\"dataset/ogbn_mag/split/time/paper/test.csv.gz\").values.squeeze()\n",
    "\n",
    "# Define the training, validation, and test sets\n",
    "train_data = paper_cites_edge_index[0, train_idx], paper_cites_edge_index[1, train_idx]\n",
    "valid_data = paper_cites_edge_index[0, valid_idx], paper_cites_edge_index[1, valid_idx], paper_cites_edge_index[1, train_idx]\n",
    "test_data = paper_cites_edge_index[0, test_idx], paper_cites_edge_index[1, test_idx]\n",
    "\n",
    "train_data"
   ]
  },
  {
   "cell_type": "code",
   "execution_count": null,
   "metadata": {},
   "outputs": [
    {
     "data": {
      "text/plain": [
       "tensor([    95,    134,    162,  ..., 140764, 140772, 140773])"
      ]
     },
     "execution_count": 46,
     "metadata": {},
     "output_type": "execute_result"
    }
   ],
   "source": []
  },
  {
   "cell_type": "code",
   "execution_count": 4,
   "metadata": {},
   "outputs": [],
   "source": [
    "import numpy as np\n",
    "\n",
    "# Get the positive edges for paper_cites_edge_index\n",
    "edges = paper_cites_edge_index.T.numpy()\n",
    "\n",
    "edges_sample = edges[:20]\n",
    "# Shuffle edges and split them into train and test sets (80% train, 20% test)\n",
    "np.random.shuffle(edges_sample)\n",
    "train_size = int(0.8 * len(edges_sample))\n",
    "train_edges = edges_sample[:train_size]\n",
    "test_edges = edges_sample[train_size:]\n",
    "\n",
    "# Generate negative edges (pairs of nodes without edges between them)\n",
    "def generate_negative_edges(num_samples, num_papers, existing_edges):\n",
    "    neg_edges = set()\n",
    "    while len(neg_edges) < num_samples:\n",
    "        u = np.random.randint(0, num_papers)\n",
    "        v = np.random.randint(0, num_papers)\n",
    "        if (u, v) not in existing_edges and (v, u) not in existing_edges:\n",
    "            neg_edges.add((u, v))\n",
    "    return np.array(list(neg_edges))\n",
    "\n",
    "# Get negative edges for training and testing\n",
    "train_neg_edges = generate_negative_edges(len(train_edges), num_papers, set(map(tuple, train_edges)))\n",
    "test_neg_edges = generate_negative_edges(len(test_edges), num_papers, set(map(tuple, train_edges)))\n",
    "\n",
    "# Combine positive and negative edges for training\n",
    "train_edges = np.concatenate([train_edges, train_neg_edges], axis=0)\n",
    "\n",
    "# Convert the edges to PyTorch tensors\n",
    "train_edges = torch.tensor(train_edges, dtype=torch.long).T  # Shape (2, num_edges)\n",
    "test_edges = torch.tensor(test_edges, dtype=torch.long).T  # Shape (2, num_edges)\n"
   ]
  }
 ],
 "metadata": {
  "kernelspec": {
   "display_name": "Bachelorprojekt",
   "language": "python",
   "name": "python3"
  },
  "language_info": {
   "codemirror_mode": {
    "name": "ipython",
    "version": 3
   },
   "file_extension": ".py",
   "mimetype": "text/x-python",
   "name": "python",
   "nbconvert_exporter": "python",
   "pygments_lexer": "ipython3",
   "version": "3.12.9"
  }
 },
 "nbformat": 4,
 "nbformat_minor": 2
}
