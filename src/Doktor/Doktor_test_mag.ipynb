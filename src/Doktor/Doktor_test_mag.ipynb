{
 "cells": [
  {
   "cell_type": "code",
   "execution_count": null,
   "metadata": {},
   "outputs": [
    {
     "name": "stderr",
     "output_type": "stream",
     "text": [
      "/tmp/ipykernel_37979/280286001.py:6: FutureWarning: You are using `torch.load` with `weights_only=False` (the current default value), which uses the default pickle module implicitly. It is possible to construct malicious pickle data which will execute arbitrary code during unpickling (See https://github.com/pytorch/pytorch/blob/main/SECURITY.md#untrusted-models for more details). In a future release, the default value for `weights_only` will be flipped to `True`. This limits the functions that could be executed during unpickling. Arbitrary objects will no longer be allowed to be loaded via this mode unless they are explicitly allowlisted by the user via `torch.serialization.add_safe_globals`. We recommend you start setting `weights_only=True` for any use case where you don't have full control of the loaded file. Please open an issue on GitHub for any issues related to this experimental feature.\n",
      "  data, _ = torch.load(r\"/mnt/c/Users/Bruger/Desktop/Bachelor/GraphML_Bachelorprojekt/dataset/ogbn_mag/processed/geometric_data_processed.pt\")\n"
     ]
    },
    {
     "data": {
      "text/plain": [
       "(5416271, 5416271)"
      ]
     },
     "execution_count": 16,
     "metadata": {},
     "output_type": "execute_result"
    }
   ],
   "source": [
    "import pandas as pd\n",
    "import torch\n",
    "data_train = pd.read_csv('/mnt/c/Users/Bruger/Desktop/Bachelor/GraphML_Bachelorprojekt/dataset/ogbn_mag/split/time/paper/train.csv.gz', compression='gzip',header = None)\n",
    "data_valid = pd.read_csv('/mnt/c/Users/Bruger/Desktop/Bachelor/GraphML_Bachelorprojekt/dataset/ogbn_mag/split/time/paper/valid.csv.gz', compression='gzip',header = None)\n",
    "data_test = pd.read_csv('/mnt/c/Users/Bruger/Desktop/Bachelor/GraphML_Bachelorprojekt/dataset/ogbn_mag/split/time/paper/test.csv.gz', compression='gzip',header = None)\n",
    "data, _ = torch.load(r\"/mnt/c/Users/Bruger/Desktop/Bachelor/GraphML_Bachelorprojekt/dataset/ogbn_mag/processed/geometric_data_processed.pt\")\n",
    "\n",
    "# Extract edges for \"paper\" -> \"cites\" -> \"paper\"\n",
    "paper_c_paper = data.edge_index_dict[('paper', 'cites', 'paper')]\n",
    "\n",
    "# Unique paper IDs to keep (Ensure it's a PyTorch tensor)\n",
    "nums_valid = torch.tensor(data_valid[0])\n",
    "nums_test = torch.tensor(data_test[0])\n",
    "nums_train = torch.tensor(data_train[0])\n",
    "\n",
    "mask_train = torch.isin(paper_c_paper[0], nums_train) | torch.isin(paper_c_paper[1], nums_train)\n",
    "mask_valid = torch.isin(paper_c_paper[0], nums_valid) | torch.isin(paper_c_paper[1], nums_valid)\n",
    "mask_test = torch.isin(paper_c_paper[0], nums_test) | torch.isin(paper_c_paper[1], nums_test)\n",
    "\n",
    "paper_c_paper_train = paper_c_paper.clone()\n",
    "paper_c_paper_valid = paper_c_paper.clone()\n",
    "paper_c_paper_test = paper_c_paper.clone()\n",
    "\n",
    "# Combine the conditions into a single mask that selects only the train edges\n",
    "mask_train_done = mask_train & ~mask_valid & ~mask_test\n",
    "mask_valid_done = mask_valid & ~mask_test\n",
    "\n",
    "# Apply the combined mask to paper_c_paper_train\n",
    "paper_c_paper_train = paper_c_paper_train[:, mask_train_done]\n",
    "paper_c_paper_valid = paper_c_paper_valid[:, mask_valid_done]\n",
    "paper_c_paper_test = paper_c_paper_test[:, mask_test]\n",
    "\n",
    "len(paper_c_paper_train[1]) + len(paper_c_paper_valid[1]) + len(paper_c_paper_test[1]), paper_c_paper.shape[1]\n"
   ]
  },
  {
   "cell_type": "code",
   "execution_count": 23,
   "metadata": {},
   "outputs": [
    {
     "data": {
      "text/plain": [
       "(7145660, 7145660)"
      ]
     },
     "execution_count": 23,
     "metadata": {},
     "output_type": "execute_result"
    }
   ],
   "source": [
    "author_w_paper = data.edge_index_dict[('author', 'writes', 'paper')]\n",
    "\n",
    "author_w_paper_train = author_w_paper.clone()\n",
    "author_w_paper_valid = author_w_paper.clone()\n",
    "author_w_paper_test = author_w_paper.clone()\n",
    "\n",
    "# Unique paper IDs to keep (Ensure it's a PyTorch tensor)\n",
    "nums_valid = torch.tensor(data_valid[0])\n",
    "nums_test = torch.tensor(data_test[0])\n",
    "nums_train = torch.tensor(data_train[0])\n",
    "\n",
    "mask_train = torch.isin(author_w_paper[1], nums_train)\n",
    "mask_valid = torch.isin(author_w_paper[1], nums_valid)\n",
    "mask_test = torch.isin(author_w_paper[1], nums_test)\n",
    "\n",
    "# Combine the conditions into a single mask that selects only the train edges\n",
    "mask_train_done = mask_train & ~mask_valid & ~mask_test\n",
    "mask_valid_done = mask_valid & ~mask_test\n",
    "\n",
    "# Apply the combined mask to paper_c_paper_train\n",
    "author_w_paper_train = author_w_paper_train[:, mask_train_done]\n",
    "author_w_paper_valid = author_w_paper_valid[:, mask_valid_done]\n",
    "author_w_paper_test = author_w_paper_test[:, mask_test]\n",
    "\n",
    "len(author_w_paper_train[1]) + len(author_w_paper_valid[1]) + len(author_w_paper_test[1]), author_w_paper.shape[1]\n"
   ]
  },
  {
   "cell_type": "code",
   "execution_count": 31,
   "metadata": {},
   "outputs": [
    {
     "name": "stderr",
     "output_type": "stream",
     "text": [
      "/tmp/ipykernel_37979/2843819996.py:7: UserWarning: To copy construct from a tensor, it is recommended to use sourceTensor.clone().detach() or sourceTensor.clone().detach().requires_grad_(True), rather than torch.tensor(sourceTensor).\n",
      "  nums_test = torch.tensor(author_w_paper_test[0].unique())\n",
      "/tmp/ipykernel_37979/2843819996.py:8: UserWarning: To copy construct from a tensor, it is recommended to use sourceTensor.clone().detach() or sourceTensor.clone().detach().requires_grad_(True), rather than torch.tensor(sourceTensor).\n",
      "  nums_valid = torch.tensor(author_w_paper_valid[0].unique())\n",
      "/tmp/ipykernel_37979/2843819996.py:9: UserWarning: To copy construct from a tensor, it is recommended to use sourceTensor.clone().detach() or sourceTensor.clone().detach().requires_grad_(True), rather than torch.tensor(sourceTensor).\n",
      "  nums_train = torch.tensor(author_w_paper_train[0].unique())\n"
     ]
    },
    {
     "data": {
      "text/plain": [
       "(1043998, 1043998)"
      ]
     },
     "execution_count": 31,
     "metadata": {},
     "output_type": "execute_result"
    }
   ],
   "source": [
    "author_a_institution = data.edge_index_dict[('author', 'affiliated_with', 'institution')]\n",
    "\n",
    "author_a_institution_train = author_a_institution.clone()\n",
    "author_a_institution_valid = author_a_institution.clone()\n",
    "author_a_institution_test = author_a_institution.clone()\n",
    "\n",
    "nums_test = torch.tensor(author_w_paper_test[0].unique())\n",
    "nums_valid = torch.tensor(author_w_paper_valid[0].unique())\n",
    "nums_train = torch.tensor(author_w_paper_train[0].unique())\n",
    "\n",
    "mask_train = torch.isin(author_a_institution[0], nums_train)\n",
    "mask_valid = torch.isin(author_a_institution[0], nums_valid)\n",
    "mask_test = torch.isin(author_a_institution[0], nums_test)\n",
    "\n",
    "# Combine the conditions into a single mask that selects only the train edges\n",
    "mask_train_done = mask_train & ~mask_valid & ~mask_test\n",
    "mask_valid_done = mask_valid & ~mask_test\n",
    "\n",
    "# Apply the combined mask to paper_c_paper_train\n",
    "author_a_institution_train = author_a_institution_train[:, mask_train_done]\n",
    "author_a_institution_valid = author_a_institution_valid[:, mask_valid_done]\n",
    "author_a_institution_test = author_a_institution_test[:, mask_test]\n",
    "\n",
    "len(author_a_institution_train[1]) + len(author_a_institution_valid[1]) + len(author_a_institution_test[1]), author_a_institution.shape[1]"
   ]
  },
  {
   "cell_type": "code",
   "execution_count": 25,
   "metadata": {},
   "outputs": [
    {
     "data": {
      "text/plain": [
       "(7505078, 7505078)"
      ]
     },
     "execution_count": 25,
     "metadata": {},
     "output_type": "execute_result"
    }
   ],
   "source": [
    "paper_t_field = data.edge_index_dict[('paper', 'has_topic', 'field_of_study')]\n",
    "\n",
    "paper_t_field_train = paper_t_field.clone()\n",
    "paper_t_field_valid = paper_t_field.clone()\n",
    "paper_t_field_test = paper_t_field.clone()\n",
    "\n",
    "# Unique paper IDs to keep (Ensure it's a PyTorch tensor)\n",
    "nums_valid = torch.tensor(data_valid[0])\n",
    "nums_test = torch.tensor(data_test[0])\n",
    "nums_train = torch.tensor(data_train[0])\n",
    "\n",
    "mask_train = torch.isin(paper_t_field[0], nums_train)\n",
    "mask_valid = torch.isin(paper_t_field[0], nums_valid)\n",
    "mask_test = torch.isin(paper_t_field[0], nums_test)\n",
    "\n",
    "# Combine the conditions into a single mask that selects only the train edges\n",
    "mask_train_done = mask_train & ~mask_valid & ~mask_test\n",
    "mask_valid_done = mask_valid & ~mask_test\n",
    "\n",
    "# Apply the combined mask to paper_c_paper_train\n",
    "paper_t_field_train = paper_t_field_train[:, mask_train_done]\n",
    "paper_t_field_valid = paper_t_field_valid[:, mask_valid_done]\n",
    "paper_t_field_test = paper_t_field_test[:, mask_test]\n",
    "\n",
    "len(paper_t_field_train[1]) + len(paper_t_field_valid[1]) + len(paper_t_field_test[1]), paper_t_field.shape[1]\n"
   ]
  },
  {
   "cell_type": "code",
   "execution_count": 32,
   "metadata": {},
   "outputs": [],
   "source": [
    "# Function to process edges based on train/valid/test masks\n",
    "def process_edges(data, edge_type, nums_train, nums_valid, nums_test, check_both=True):\n",
    "    edge_data = data.edge_index_dict[edge_type]\n",
    "\n",
    "    # If check_both is True, check both parts of the edge\n",
    "    if check_both:\n",
    "        mask_train = torch.isin(edge_data[0], nums_train) | torch.isin(edge_data[1], nums_train)\n",
    "        mask_valid = torch.isin(edge_data[0], nums_valid) | torch.isin(edge_data[1], nums_valid)\n",
    "        mask_test = torch.isin(edge_data[0], nums_test) | torch.isin(edge_data[1], nums_test)\n",
    "    else:\n",
    "        # If check_both is False, check only one part (e.g., edge_data[0] or edge_data[1])\n",
    "        mask_train = torch.isin(edge_data[0], nums_train)\n",
    "        mask_valid = torch.isin(edge_data[0], nums_valid)\n",
    "        mask_test = torch.isin(edge_data[0], nums_test)\n",
    "    \n",
    "    # Combine the conditions into a single mask that selects only the train edges\n",
    "    mask_train_done = mask_train & ~mask_valid & ~mask_test\n",
    "    mask_valid_done = mask_valid & ~mask_test\n",
    "\n",
    "    edge_train = edge_data.clone()[:, mask_train_done]\n",
    "    edge_valid = edge_data.clone()[:, mask_valid_done]\n",
    "    edge_test = edge_data.clone()[:, mask_test]\n",
    "\n",
    "    return edge_train, edge_valid, edge_test, edge_data\n",
    "\n",
    "# Example usage where you only care about checking edge_data[0] (source node):\n",
    "paper_c_paper_train, paper_c_paper_valid, paper_c_paper_test, paper_c_paper = process_edges(\n",
    "    data, ('paper', 'cites', 'paper'), nums_train, nums_valid, nums_test)\n"
   ]
  },
  {
   "cell_type": "code",
   "execution_count": 3,
   "metadata": {},
   "outputs": [
    {
     "data": {
      "text/plain": [
       "(5416271, 5416271)"
      ]
     },
     "execution_count": 3,
     "metadata": {},
     "output_type": "execute_result"
    }
   ],
   "source": [
    "len(paper_c_paper_train[1]) + len(paper_c_paper_valid[1]) + len(paper_c_paper_test[1]), paper_c_paper.shape[1]"
   ]
  },
  {
   "cell_type": "code",
   "execution_count": 4,
   "metadata": {},
   "outputs": [
    {
     "data": {
      "text/plain": [
       "(5416271, 5416271)"
      ]
     },
     "execution_count": 4,
     "metadata": {},
     "output_type": "execute_result"
    }
   ],
   "source": [
    "len(paper_c_paper_train[1]) + len(paper_c_paper_valid[1]) + len(paper_c_paper_test[1]), paper_c_paper.shape[1]"
   ]
  },
  {
   "cell_type": "code",
   "execution_count": 7,
   "metadata": {},
   "outputs": [
    {
     "name": "stdout",
     "output_type": "stream",
     "text": [
      "5416271 5416271\n",
      "7145660 7145660\n",
      "1043998 1043998\n",
      "7505078 7505078\n"
     ]
    }
   ],
   "source": [
    "print(len(paper_c_paper_train[1]) + len(paper_c_paper_valid[1]) + len(paper_c_paper_test[1]), paper_c_paper.shape[1])\n",
    "print(len(author_w_paper_train[1]) + len(author_w_paper_valid[1]) + len(author_w_paper_test[1]), author_w_paper.shape[1])\n",
    "print(len(author_a_institution_train[1]) + len(author_a_institution_valid[1]) + len(author_a_institution_test[1]), author_a_institution.shape[1])\n",
    "print(len(paper_t_field_train[1]) + len(paper_t_field_valid[1]) + len(paper_t_field_test[1]), paper_t_field.shape[1])\n"
   ]
  },
  {
   "cell_type": "code",
   "execution_count": 6,
   "metadata": {},
   "outputs": [
    {
     "name": "stderr",
     "output_type": "stream",
     "text": [
      "/tmp/ipykernel_61585/4219562739.py:6: FutureWarning: You are using `torch.load` with `weights_only=False` (the current default value), which uses the default pickle module implicitly. It is possible to construct malicious pickle data which will execute arbitrary code during unpickling (See https://github.com/pytorch/pytorch/blob/main/SECURITY.md#untrusted-models for more details). In a future release, the default value for `weights_only` will be flipped to `True`. This limits the functions that could be executed during unpickling. Arbitrary objects will no longer be allowed to be loaded via this mode unless they are explicitly allowlisted by the user via `torch.serialization.add_safe_globals`. We recommend you start setting `weights_only=True` for any use case where you don't have full control of the loaded file. Please open an issue on GitHub for any issues related to this experimental feature.\n",
      "  data, _ = torch.load(r\"/mnt/c/Users/Bruger/Desktop/Bachelor/GraphML_Bachelorprojekt/dataset/ogbn_mag/processed/geometric_data_processed.pt\")\n",
      "/tmp/ipykernel_61585/4219562739.py:50: UserWarning: To copy construct from a tensor, it is recommended to use sourceTensor.clone().detach() or sourceTensor.clone().detach().requires_grad_(True), rather than torch.tensor(sourceTensor).\n",
      "  nums_test_author = torch.tensor(author_w_paper_test[0].unique())\n",
      "/tmp/ipykernel_61585/4219562739.py:51: UserWarning: To copy construct from a tensor, it is recommended to use sourceTensor.clone().detach() or sourceTensor.clone().detach().requires_grad_(True), rather than torch.tensor(sourceTensor).\n",
      "  nums_valid_author = torch.tensor(author_w_paper_valid[0].unique())\n",
      "/tmp/ipykernel_61585/4219562739.py:52: UserWarning: To copy construct from a tensor, it is recommended to use sourceTensor.clone().detach() or sourceTensor.clone().detach().requires_grad_(True), rather than torch.tensor(sourceTensor).\n",
      "  nums_train_author = torch.tensor(author_w_paper_train[0].unique())\n"
     ]
    }
   ],
   "source": [
    "import pandas as pd\n",
    "import torch\n",
    "data_train = pd.read_csv('/mnt/c/Users/Bruger/Desktop/Bachelor/GraphML_Bachelorprojekt/dataset/ogbn_mag/split/time/paper/train.csv.gz', compression='gzip',header = None)\n",
    "data_valid = pd.read_csv('/mnt/c/Users/Bruger/Desktop/Bachelor/GraphML_Bachelorprojekt/dataset/ogbn_mag/split/time/paper/valid.csv.gz', compression='gzip',header = None)\n",
    "data_test = pd.read_csv('/mnt/c/Users/Bruger/Desktop/Bachelor/GraphML_Bachelorprojekt/dataset/ogbn_mag/split/time/paper/test.csv.gz', compression='gzip',header = None)\n",
    "data, _ = torch.load(r\"/mnt/c/Users/Bruger/Desktop/Bachelor/GraphML_Bachelorprojekt/dataset/ogbn_mag/processed/geometric_data_processed.pt\")\n",
    "\n",
    "def process_edges(data, edge_type, nums_train, nums_valid, nums_test, mask_position):\n",
    "    edge_data = data.edge_index_dict[edge_type]\n",
    "\n",
    "    # If check_both is True, check both parts of the edge\n",
    "    if mask_position == 'both':\n",
    "        mask_train = torch.isin(edge_data[0], nums_train) | torch.isin(edge_data[1], nums_train)\n",
    "        mask_valid = torch.isin(edge_data[0], nums_valid) | torch.isin(edge_data[1], nums_valid)\n",
    "        mask_test = torch.isin(edge_data[0], nums_test) | torch.isin(edge_data[1], nums_test)\n",
    "    elif mask_position == 'source':\n",
    "        mask_train = torch.isin(edge_data[0], nums_train)\n",
    "        mask_valid = torch.isin(edge_data[0], nums_valid)\n",
    "        mask_test = torch.isin(edge_data[0], nums_test)\n",
    "    elif mask_position == 'target':\n",
    "        mask_train = torch.isin(edge_data[1], nums_train)\n",
    "        mask_valid = torch.isin(edge_data[1], nums_valid)\n",
    "        mask_test = torch.isin(edge_data[1], nums_test)\n",
    "    else:\n",
    "        raise ValueError('mask_position must be one of \"both\", \"source\", or \"target\"')\n",
    "    \n",
    "    # Combine the conditions into a single mask that selects only the train edges\n",
    "    mask_train_done = mask_train & ~mask_valid & ~mask_test\n",
    "    mask_valid_done = mask_valid & ~mask_test\n",
    "\n",
    "    edge_train = edge_data.clone()[:, mask_train_done]\n",
    "    edge_valid = edge_data.clone()[:, mask_valid_done]\n",
    "    edge_test = edge_data.clone()[:, mask_test]\n",
    "\n",
    "    return edge_train, edge_valid, edge_test, edge_data\n",
    "\n",
    "nums_valid = torch.tensor(data_valid[0])\n",
    "nums_test = torch.tensor(data_test[0])\n",
    "nums_train = torch.tensor(data_train[0])\n",
    "\n",
    "paper_c_paper_train, paper_c_paper_valid, paper_c_paper_test, paper_c_paper = process_edges(\n",
    "    data, ('paper', 'cites', 'paper'), nums_train, nums_valid, nums_test,mask_position='both')\n",
    "\n",
    "paper_t_field_train, paper_t_field_valid, paper_t_field_test, paper_t_field = process_edges(\n",
    "    data, ('paper', 'has_topic', 'field_of_study'), nums_train, nums_valid, nums_test,mask_position='source')\n",
    "\n",
    "author_w_paper_train, author_w_paper_valid, author_w_paper_test, author_w_paper = process_edges(\n",
    "    data, ('author', 'writes', 'paper'), nums_train, nums_valid, nums_test,mask_position='target')\n",
    "\n",
    "nums_test_author = torch.tensor(author_w_paper_test[0].unique())\n",
    "nums_valid_author = torch.tensor(author_w_paper_valid[0].unique())\n",
    "nums_train_author = torch.tensor(author_w_paper_train[0].unique())\n",
    "\n",
    "author_a_institution_train, author_a_institution_valid, author_a_institution_test, author_a_institution = process_edges(\n",
    "    data, ('author', 'affiliated_with', 'institution'), nums_train_author, nums_valid_author, nums_test_author,mask_position='source')"
   ]
  }
 ],
 "metadata": {
  "kernelspec": {
   "display_name": "bachelor10",
   "language": "python",
   "name": "python3"
  },
  "language_info": {
   "codemirror_mode": {
    "name": "ipython",
    "version": 3
   },
   "file_extension": ".py",
   "mimetype": "text/x-python",
   "name": "python",
   "nbconvert_exporter": "python",
   "pygments_lexer": "ipython3",
   "version": "3.12.2"
  }
 },
 "nbformat": 4,
 "nbformat_minor": 2
}
