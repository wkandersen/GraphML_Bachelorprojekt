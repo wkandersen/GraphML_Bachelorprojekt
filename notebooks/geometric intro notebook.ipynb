{
 "cells": [
  {
   "cell_type": "code",
   "execution_count": 1,
   "metadata": {},
   "outputs": [
    {
     "data": {
      "text/plain": [
       "Data(x=[2], edge_index=[2])"
      ]
     },
     "execution_count": 1,
     "metadata": {},
     "output_type": "execute_result"
    }
   ],
   "source": [
    "import torch\n",
    "from torch_geometric.data import Data\n",
    "\n",
    "edge_index = torch.tensor([[0, 1, 1, 2],\n",
    "                           [1, 0, 2, 1]], dtype=torch.long)\n",
    "x = torch.tensor([[-1], [0], [1]], dtype=torch.float)\n",
    "\n",
    "data = Data(x=x, edge_index=edge_index)\n",
    "Data(edge_index=[2, 4], x=[3, 1])"
   ]
  },
  {
   "cell_type": "code",
   "execution_count": 15,
   "metadata": {},
   "outputs": [
    {
     "data": {
      "text/plain": [
       "Data(x=[2], edge_index=[2])"
      ]
     },
     "execution_count": 15,
     "metadata": {},
     "output_type": "execute_result"
    }
   ],
   "source": [
    "import torch\n",
    "from torch_geometric.data import Data\n",
    "\n",
    "edge_index = torch.tensor([[0, 1],\n",
    "                           [1, 0],\n",
    "                           [1, 2],\n",
    "                           [2, 1]], dtype=torch.long)\n",
    "x = torch.tensor([[-1], [0], [1]], dtype=torch.float)\n",
    "\n",
    "data = Data(x=x, edge_index=edge_index.t().contiguous())\n",
    "Data(edge_index=[2, 4], x=[3, 1])"
   ]
  },
  {
   "cell_type": "code",
   "execution_count": 16,
   "metadata": {},
   "outputs": [
    {
     "data": {
      "text/plain": [
       "True"
      ]
     },
     "execution_count": 16,
     "metadata": {},
     "output_type": "execute_result"
    }
   ],
   "source": [
    "data.validate(raise_on_error=True)"
   ]
  },
  {
   "cell_type": "code",
   "execution_count": 17,
   "metadata": {},
   "outputs": [
    {
     "name": "stdout",
     "output_type": "stream",
     "text": [
      "['edge_index', 'x']\n",
      "tensor([[-1.],\n",
      "        [ 0.],\n",
      "        [ 1.]])\n",
      "x found in data\n",
      "edge_index found in data\n",
      "False\n",
      "3\n",
      "4\n",
      "1\n",
      "False\n",
      "False\n",
      "False\n"
     ]
    }
   ],
   "source": [
    "print(data.keys())\n",
    "\n",
    "\n",
    "print(data['x'])\n",
    "\n",
    "\n",
    "for key, item in data:\n",
    "    print(f'{key} found in data')\n",
    "\n",
    "\n",
    "print('edge_attr' in data)\n",
    "\n",
    "\n",
    "print(data.num_nodes)\n",
    "\n",
    "\n",
    "print(data.num_edges)\n",
    "\n",
    "print(data.num_node_features)\n",
    "\n",
    "print(data.has_isolated_nodes())\n",
    "\n",
    "\n",
    "print(data.has_self_loops())\n",
    "\n",
    "print(data.is_directed())\n",
    "\n",
    "\n",
    "# Transfer data object to GPU.\n",
    "device = torch.device('cuda') if torch.cuda.is_available() else torch.device('cpu')\n",
    "data = data.to(device)"
   ]
  },
  {
   "cell_type": "code",
   "execution_count": 18,
   "metadata": {},
   "outputs": [
    {
     "name": "stdout",
     "output_type": "stream",
     "text": [
      "ENZYMES(600)\n",
      "600\n",
      "6\n",
      "3\n"
     ]
    }
   ],
   "source": [
    "from torch_geometric.datasets import TUDataset\n",
    "\n",
    "dataset = TUDataset(root='/tmp/ENZYMES', name='ENZYMES')\n",
    "\n",
    "print(dataset)\n",
    "\n",
    "print(len(dataset))\n",
    "\n",
    "\n",
    "print(dataset.num_classes)\n",
    "\n",
    "\n",
    "print(dataset.num_node_features)\n"
   ]
  },
  {
   "cell_type": "code",
   "execution_count": 19,
   "metadata": {},
   "outputs": [
    {
     "name": "stdout",
     "output_type": "stream",
     "text": [
      "Data(x=[2], edge_index=[2], y=[1])\n",
      "True\n"
     ]
    }
   ],
   "source": [
    "data = dataset[0]\n",
    "print(Data(edge_index=[2, 168], x=[37, 3], y=[1]))\n",
    "\n",
    "print(data.is_undirected())\n"
   ]
  },
  {
   "cell_type": "code",
   "execution_count": 20,
   "metadata": {},
   "outputs": [
    {
     "name": "stdout",
     "output_type": "stream",
     "text": [
      "ENZYMES(540)\n",
      "ENZYMES(60)\n"
     ]
    }
   ],
   "source": [
    "train_dataset = dataset[:540]\n",
    "print(train_dataset)\n",
    "\n",
    "test_dataset = dataset[540:]\n",
    "print(test_dataset)"
   ]
  },
  {
   "cell_type": "code",
   "execution_count": 21,
   "metadata": {},
   "outputs": [
    {
     "name": "stdout",
     "output_type": "stream",
     "text": [
      "ENZYMES(600)\n"
     ]
    }
   ],
   "source": [
    "dataset = dataset.shuffle()\n",
    "print(dataset)"
   ]
  },
  {
   "cell_type": "code",
   "execution_count": 22,
   "metadata": {},
   "outputs": [
    {
     "name": "stdout",
     "output_type": "stream",
     "text": [
      "ENZYMES(600)\n"
     ]
    }
   ],
   "source": [
    "perm = torch.randperm(len(dataset))\n",
    "dataset = dataset[perm]\n",
    "print(dataset)"
   ]
  },
  {
   "cell_type": "code",
   "execution_count": 23,
   "metadata": {},
   "outputs": [
    {
     "name": "stdout",
     "output_type": "stream",
     "text": [
      "Cora()\n",
      "1\n",
      "7\n",
      "1433\n"
     ]
    }
   ],
   "source": [
    "from torch_geometric.datasets import Planetoid\n",
    "\n",
    "dataset = Planetoid(root='/tmp/Cora', name='Cora')\n",
    "print(dataset)\n",
    "\n",
    "print(len(dataset))\n",
    "\n",
    "print(dataset.num_classes)\n",
    "\n",
    "\n",
    "print(dataset.num_node_features)\n"
   ]
  },
  {
   "cell_type": "code",
   "execution_count": 24,
   "metadata": {},
   "outputs": [
    {
     "name": "stdout",
     "output_type": "stream",
     "text": [
      "True\n",
      "140\n",
      "500\n",
      "1000\n"
     ]
    }
   ],
   "source": [
    "data = dataset[0]\n",
    "Data(edge_index=[2, 10556], test_mask=[2708],\n",
    "         train_mask=[2708], val_mask=[2708], x=[2708, 1433], y=[2708])\n",
    "\n",
    "print(data.is_undirected())\n",
    "\n",
    "\n",
    "print(data.train_mask.sum().item())\n",
    "\n",
    "\n",
    "print(data.val_mask.sum().item())\n",
    "\n",
    "\n",
    "print(data.test_mask.sum().item())\n"
   ]
  },
  {
   "cell_type": "code",
   "execution_count": 25,
   "metadata": {},
   "outputs": [
    {
     "name": "stdout",
     "output_type": "stream",
     "text": [
      "DataBatch(edge_index=[2, 4140], x=[1040, 21], y=[32], batch=[1040], ptr=[33])\n",
      "32\n"
     ]
    },
    {
     "name": "stdout",
     "output_type": "stream",
     "text": [
      "DataBatch(edge_index=[2, 4350], x=[1178, 21], y=[32], batch=[1178], ptr=[33])\n",
      "32\n",
      "DataBatch(edge_index=[2, 4006], x=[1048, 21], y=[32], batch=[1048], ptr=[33])\n",
      "32\n",
      "DataBatch(edge_index=[2, 3782], x=[961, 21], y=[32], batch=[961], ptr=[33])\n",
      "32\n",
      "DataBatch(edge_index=[2, 4110], x=[1033, 21], y=[32], batch=[1033], ptr=[33])\n",
      "32\n",
      "DataBatch(edge_index=[2, 3630], x=[970, 21], y=[32], batch=[970], ptr=[33])\n",
      "32\n",
      "DataBatch(edge_index=[2, 4388], x=[1159, 21], y=[32], batch=[1159], ptr=[33])\n",
      "32\n",
      "DataBatch(edge_index=[2, 3810], x=[996, 21], y=[32], batch=[996], ptr=[33])\n",
      "32\n",
      "DataBatch(edge_index=[2, 3978], x=[1062, 21], y=[32], batch=[1062], ptr=[33])\n",
      "32\n",
      "DataBatch(edge_index=[2, 3362], x=[1026, 21], y=[32], batch=[1026], ptr=[33])\n",
      "32\n",
      "DataBatch(edge_index=[2, 3604], x=[954, 21], y=[32], batch=[954], ptr=[33])\n",
      "32\n",
      "DataBatch(edge_index=[2, 4508], x=[1171, 21], y=[32], batch=[1171], ptr=[33])\n",
      "32\n",
      "DataBatch(edge_index=[2, 4166], x=[1077, 21], y=[32], batch=[1077], ptr=[33])\n",
      "32\n",
      "DataBatch(edge_index=[2, 4110], x=[1076, 21], y=[32], batch=[1076], ptr=[33])\n",
      "32\n",
      "DataBatch(edge_index=[2, 4164], x=[1120, 21], y=[32], batch=[1120], ptr=[33])\n",
      "32\n",
      "DataBatch(edge_index=[2, 3600], x=[919, 21], y=[32], batch=[919], ptr=[33])\n",
      "32\n",
      "DataBatch(edge_index=[2, 3880], x=[1008, 21], y=[32], batch=[1008], ptr=[33])\n",
      "32\n",
      "DataBatch(edge_index=[2, 3942], x=[1028, 21], y=[32], batch=[1028], ptr=[33])\n",
      "32\n",
      "DataBatch(edge_index=[2, 3034], x=[754, 21], y=[24], batch=[754], ptr=[25])\n",
      "24\n"
     ]
    }
   ],
   "source": [
    "from torch_geometric.datasets import TUDataset\n",
    "from torch_geometric.loader import DataLoader\n",
    "\n",
    "dataset = TUDataset(root='/tmp/ENZYMES', name='ENZYMES', use_node_attr=True)\n",
    "loader = DataLoader(dataset, batch_size=32, shuffle=True)\n",
    "\n",
    "for batch in loader:\n",
    "    print(batch)\n",
    "\n",
    "    print(batch.num_graphs)\n",
    "    "
   ]
  },
  {
   "cell_type": "code",
   "execution_count": 26,
   "metadata": {},
   "outputs": [
    {
     "name": "stdout",
     "output_type": "stream",
     "text": [
      "DataBatch(edge_index=[2, 4112], x=[1061, 21], y=[32], batch=[1061], ptr=[33])\n",
      "32\n",
      "torch.Size([32, 21])\n",
      "DataBatch(edge_index=[2, 4096], x=[1065, 21], y=[32], batch=[1065], ptr=[33])\n",
      "32\n",
      "torch.Size([32, 21])\n",
      "DataBatch(edge_index=[2, 3864], x=[1025, 21], y=[32], batch=[1025], ptr=[33])\n",
      "32\n",
      "torch.Size([32, 21])\n",
      "DataBatch(edge_index=[2, 3518], x=[972, 21], y=[32], batch=[972], ptr=[33])\n",
      "32\n",
      "torch.Size([32, 21])\n",
      "DataBatch(edge_index=[2, 4012], x=[1037, 21], y=[32], batch=[1037], ptr=[33])\n",
      "32\n",
      "torch.Size([32, 21])\n",
      "DataBatch(edge_index=[2, 3824], x=[956, 21], y=[32], batch=[956], ptr=[33])\n",
      "32\n",
      "torch.Size([32, 21])\n",
      "DataBatch(edge_index=[2, 3992], x=[1175, 21], y=[32], batch=[1175], ptr=[33])\n",
      "32\n",
      "torch.Size([32, 21])\n",
      "DataBatch(edge_index=[2, 3900], x=[994, 21], y=[32], batch=[994], ptr=[33])\n",
      "32\n",
      "torch.Size([32, 21])\n",
      "DataBatch(edge_index=[2, 3704], x=[956, 21], y=[32], batch=[956], ptr=[33])\n",
      "32\n",
      "torch.Size([32, 21])\n",
      "DataBatch(edge_index=[2, 4120], x=[1079, 21], y=[32], batch=[1079], ptr=[33])\n",
      "32\n",
      "torch.Size([32, 21])\n",
      "DataBatch(edge_index=[2, 4736], x=[1228, 21], y=[32], batch=[1228], ptr=[33])\n",
      "32\n",
      "torch.Size([32, 21])\n",
      "DataBatch(edge_index=[2, 3624], x=[983, 21], y=[32], batch=[983], ptr=[33])\n",
      "32\n",
      "torch.Size([32, 21])\n",
      "DataBatch(edge_index=[2, 3532], x=[908, 21], y=[32], batch=[908], ptr=[33])\n",
      "32\n",
      "torch.Size([32, 21])\n",
      "DataBatch(edge_index=[2, 4102], x=[1045, 21], y=[32], batch=[1045], ptr=[33])\n",
      "32\n",
      "torch.Size([32, 21])\n",
      "DataBatch(edge_index=[2, 4322], x=[1147, 21], y=[32], batch=[1147], ptr=[33])\n",
      "32\n",
      "torch.Size([32, 21])\n",
      "DataBatch(edge_index=[2, 3702], x=[972, 21], y=[32], batch=[972], ptr=[33])\n",
      "32\n",
      "torch.Size([32, 21])\n",
      "DataBatch(edge_index=[2, 3888], x=[994, 21], y=[32], batch=[994], ptr=[33])\n",
      "32\n",
      "torch.Size([32, 21])\n",
      "DataBatch(edge_index=[2, 4176], x=[1083, 21], y=[32], batch=[1083], ptr=[33])\n",
      "32\n",
      "torch.Size([32, 21])\n",
      "DataBatch(edge_index=[2, 3340], x=[900, 21], y=[24], batch=[900], ptr=[25])\n",
      "24\n",
      "torch.Size([24, 21])\n"
     ]
    }
   ],
   "source": [
    "from torch_geometric.utils import scatter\n",
    "from torch_geometric.datasets import TUDataset\n",
    "from torch_geometric.loader import DataLoader\n",
    "\n",
    "dataset = TUDataset(root='/tmp/ENZYMES', name='ENZYMES', use_node_attr=True)\n",
    "loader = DataLoader(dataset, batch_size=32, shuffle=True)\n",
    "\n",
    "for data in loader:\n",
    "    print(data)\n",
    "\n",
    "    print(data.num_graphs)\n",
    "\n",
    "\n",
    "    x = scatter(data.x, data.batch, dim=0, reduce='mean')\n",
    "    print(x.size())\n"
   ]
  },
  {
   "cell_type": "code",
   "execution_count": 27,
   "metadata": {},
   "outputs": [
    {
     "data": {
      "text/plain": [
       "Cora()"
      ]
     },
     "execution_count": 27,
     "metadata": {},
     "output_type": "execute_result"
    }
   ],
   "source": [
    "from torch_geometric.datasets import Planetoid\n",
    "\n",
    "dataset = Planetoid(root='/tmp/Cora', name='Cora')\n",
    "dataset"
   ]
  },
  {
   "cell_type": "code",
   "execution_count": 28,
   "metadata": {},
   "outputs": [],
   "source": [
    "import torch\n",
    "import torch.nn.functional as F\n",
    "from torch_geometric.nn import GCNConv\n",
    "\n",
    "class GCN(torch.nn.Module):\n",
    "    def __init__(self):\n",
    "        super().__init__()\n",
    "        self.conv1 = GCNConv(dataset.num_node_features, 16)\n",
    "        self.conv2 = GCNConv(16, dataset.num_classes)\n",
    "\n",
    "    def forward(self, data):\n",
    "        x, edge_index = data.x, data.edge_index\n",
    "\n",
    "        x = self.conv1(x, edge_index)\n",
    "        x = F.relu(x)\n",
    "        x = F.dropout(x, training=self.training)\n",
    "        x = self.conv2(x, edge_index)\n",
    "\n",
    "        return F.log_softmax(x, dim=1)"
   ]
  },
  {
   "cell_type": "code",
   "execution_count": 29,
   "metadata": {},
   "outputs": [],
   "source": [
    "device = torch.device('cuda' if torch.cuda.is_available() else 'cpu')\n",
    "model = GCN().to(device)\n",
    "data = dataset[0].to(device)\n",
    "optimizer = torch.optim.Adam(model.parameters(), lr=0.01, weight_decay=5e-4)\n",
    "\n",
    "model.train()\n",
    "for epoch in range(200):\n",
    "    optimizer.zero_grad()\n",
    "    out = model(data)\n",
    "    loss = F.nll_loss(out[data.train_mask], data.y[data.train_mask])\n",
    "    loss.backward()\n",
    "    optimizer.step()"
   ]
  },
  {
   "cell_type": "code",
   "execution_count": 30,
   "metadata": {},
   "outputs": [
    {
     "name": "stdout",
     "output_type": "stream",
     "text": [
      "Accuracy: 0.8050\n"
     ]
    }
   ],
   "source": [
    "model.eval()\n",
    "pred = model(data).argmax(dim=1)\n",
    "correct = (pred[data.test_mask] == data.y[data.test_mask]).sum()\n",
    "acc = int(correct) / int(data.test_mask.sum())\n",
    "print(f'Accuracy: {acc:.4f}')"
   ]
  }
 ],
 "metadata": {
  "kernelspec": {
   "display_name": "Bachelorprojekt",
   "language": "python",
   "name": "python3"
  },
  "language_info": {
   "codemirror_mode": {
    "name": "ipython",
    "version": 3
   },
   "file_extension": ".py",
   "mimetype": "text/x-python",
   "name": "python",
   "nbconvert_exporter": "python",
   "pygments_lexer": "ipython3",
   "version": "3.12.3"
  }
 },
 "nbformat": 4,
 "nbformat_minor": 2
}
