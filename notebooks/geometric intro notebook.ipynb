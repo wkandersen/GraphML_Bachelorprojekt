{
 "cells": [
  {
   "cell_type": "code",
   "execution_count": 1,
   "metadata": {},
   "outputs": [
    {
     "data": {
      "text/plain": [
       "Data(x=[2], edge_index=[2])"
      ]
     },
     "execution_count": 1,
     "metadata": {},
     "output_type": "execute_result"
    }
   ],
   "source": [
    "import torch\n",
    "from torch_geometric.data import Data\n",
    "\n",
    "edge_index = torch.tensor([[0, 1, 1, 2],\n",
    "                           [1, 0, 2, 1]], dtype=torch.long)\n",
    "x = torch.tensor([[-1], [0], [1]], dtype=torch.float)\n",
    "\n",
    "data = Data(x=x, edge_index=edge_index)\n",
    "Data(edge_index=[2, 4], x=[3, 1])"
   ]
  },
  {
   "cell_type": "code",
   "execution_count": 2,
   "metadata": {},
   "outputs": [
    {
     "data": {
      "text/plain": [
       "Data(x=[2], edge_index=[2])"
      ]
     },
     "execution_count": 2,
     "metadata": {},
     "output_type": "execute_result"
    }
   ],
   "source": [
    "import torch\n",
    "from torch_geometric.data import Data\n",
    "\n",
    "edge_index = torch.tensor([[0, 1],\n",
    "                           [1, 0],\n",
    "                           [1, 2],\n",
    "                           [2, 1]], dtype=torch.long)\n",
    "x = torch.tensor([[-1], [0], [1]], dtype=torch.float)\n",
    "\n",
    "data = Data(x=x, edge_index=edge_index.t().contiguous())\n",
    "Data(edge_index=[2, 4], x=[3, 1])"
   ]
  },
  {
   "cell_type": "code",
   "execution_count": 3,
   "metadata": {},
   "outputs": [
    {
     "data": {
      "text/plain": [
       "True"
      ]
     },
     "execution_count": 3,
     "metadata": {},
     "output_type": "execute_result"
    }
   ],
   "source": [
    "data.validate(raise_on_error=True)"
   ]
  },
  {
   "cell_type": "code",
   "execution_count": 5,
   "metadata": {},
   "outputs": [
    {
     "name": "stdout",
     "output_type": "stream",
     "text": [
      "['edge_index', 'x']\n",
      "tensor([[-1.],\n",
      "        [ 0.],\n",
      "        [ 1.]])\n",
      "x found in data\n",
      "edge_index found in data\n",
      "False\n",
      "3\n",
      "4\n",
      "1\n",
      "False\n",
      "False\n",
      "False\n"
     ]
    }
   ],
   "source": [
    "print(data.keys())\n",
    "\n",
    "\n",
    "print(data['x'])\n",
    "\n",
    "\n",
    "for key, item in data:\n",
    "    print(f'{key} found in data')\n",
    "\n",
    "\n",
    "print('edge_attr' in data)\n",
    "\n",
    "\n",
    "print(data.num_nodes)\n",
    "\n",
    "\n",
    "print(data.num_edges)\n",
    "\n",
    "print(data.num_node_features)\n",
    "\n",
    "print(data.has_isolated_nodes())\n",
    "\n",
    "\n",
    "print(data.has_self_loops())\n",
    "\n",
    "print(data.is_directed())\n",
    "\n",
    "\n",
    "# Transfer data object to GPU.\n",
    "device = torch.device('cuda') if torch.cuda.is_available() else torch.device('cpu')\n",
    "data = data.to(device)"
   ]
  },
  {
   "cell_type": "code",
   "execution_count": 8,
   "metadata": {},
   "outputs": [
    {
     "name": "stdout",
     "output_type": "stream",
     "text": [
      "ENZYMES(600)\n",
      "600\n",
      "6\n",
      "3\n"
     ]
    }
   ],
   "source": [
    "from torch_geometric.datasets import TUDataset\n",
    "\n",
    "dataset = TUDataset(root='/tmp/ENZYMES', name='ENZYMES')\n",
    "\n",
    "print(dataset)\n",
    "\n",
    "print(len(dataset))\n",
    "\n",
    "\n",
    "print(dataset.num_classes)\n",
    "\n",
    "\n",
    "print(dataset.num_node_features)\n"
   ]
  },
  {
   "cell_type": "code",
   "execution_count": 9,
   "metadata": {},
   "outputs": [
    {
     "name": "stdout",
     "output_type": "stream",
     "text": [
      "Data(x=[2], edge_index=[2], y=[1])\n",
      "True\n"
     ]
    }
   ],
   "source": [
    "data = dataset[0]\n",
    "print(Data(edge_index=[2, 168], x=[37, 3], y=[1]))\n",
    "\n",
    "print(data.is_undirected())\n"
   ]
  },
  {
   "cell_type": "code",
   "execution_count": 10,
   "metadata": {},
   "outputs": [
    {
     "name": "stdout",
     "output_type": "stream",
     "text": [
      "ENZYMES(540)\n",
      "ENZYMES(60)\n"
     ]
    }
   ],
   "source": [
    "train_dataset = dataset[:540]\n",
    "print(train_dataset)\n",
    "\n",
    "test_dataset = dataset[540:]\n",
    "print(test_dataset)"
   ]
  },
  {
   "cell_type": "code",
   "execution_count": 11,
   "metadata": {},
   "outputs": [
    {
     "name": "stdout",
     "output_type": "stream",
     "text": [
      "ENZYMES(600)\n"
     ]
    }
   ],
   "source": [
    "dataset = dataset.shuffle()\n",
    "print(dataset)"
   ]
  },
  {
   "cell_type": "code",
   "execution_count": 12,
   "metadata": {},
   "outputs": [
    {
     "name": "stdout",
     "output_type": "stream",
     "text": [
      "ENZYMES(600)\n"
     ]
    }
   ],
   "source": [
    "perm = torch.randperm(len(dataset))\n",
    "dataset = dataset[perm]\n",
    "print(dataset)"
   ]
  },
  {
   "cell_type": "code",
   "execution_count": 13,
   "metadata": {},
   "outputs": [
    {
     "name": "stderr",
     "output_type": "stream",
     "text": [
      "Downloading https://github.com/kimiyoung/planetoid/raw/master/data/ind.cora.x\n",
      "Downloading https://github.com/kimiyoung/planetoid/raw/master/data/ind.cora.tx\n",
      "Downloading https://github.com/kimiyoung/planetoid/raw/master/data/ind.cora.allx\n",
      "Downloading https://github.com/kimiyoung/planetoid/raw/master/data/ind.cora.y\n",
      "Downloading https://github.com/kimiyoung/planetoid/raw/master/data/ind.cora.ty\n",
      "Downloading https://github.com/kimiyoung/planetoid/raw/master/data/ind.cora.ally\n",
      "Downloading https://github.com/kimiyoung/planetoid/raw/master/data/ind.cora.graph\n",
      "Downloading https://github.com/kimiyoung/planetoid/raw/master/data/ind.cora.test.index\n",
      "Processing...\n"
     ]
    },
    {
     "name": "stdout",
     "output_type": "stream",
     "text": [
      "Cora()\n",
      "1\n",
      "7\n",
      "1433\n"
     ]
    },
    {
     "name": "stderr",
     "output_type": "stream",
     "text": [
      "Done!\n"
     ]
    }
   ],
   "source": [
    "from torch_geometric.datasets import Planetoid\n",
    "\n",
    "dataset = Planetoid(root='/tmp/Cora', name='Cora')\n",
    "print(dataset)\n",
    "\n",
    "print(len(dataset))\n",
    "\n",
    "print(dataset.num_classes)\n",
    "\n",
    "\n",
    "print(dataset.num_node_features)\n"
   ]
  },
  {
   "cell_type": "code",
   "execution_count": 14,
   "metadata": {},
   "outputs": [
    {
     "name": "stdout",
     "output_type": "stream",
     "text": [
      "True\n",
      "140\n",
      "500\n",
      "1000\n"
     ]
    }
   ],
   "source": [
    "data = dataset[0]\n",
    "Data(edge_index=[2, 10556], test_mask=[2708],\n",
    "         train_mask=[2708], val_mask=[2708], x=[2708, 1433], y=[2708])\n",
    "\n",
    "print(data.is_undirected())\n",
    "\n",
    "\n",
    "print(data.train_mask.sum().item())\n",
    "\n",
    "\n",
    "print(data.val_mask.sum().item())\n",
    "\n",
    "\n",
    "print(data.test_mask.sum().item())\n"
   ]
  },
  {
   "cell_type": "code",
   "execution_count": 16,
   "metadata": {},
   "outputs": [
    {
     "name": "stdout",
     "output_type": "stream",
     "text": [
      "DataBatch(edge_index=[2, 4006], x=[1058, 21], y=[32], batch=[1058], ptr=[33])\n",
      "32\n",
      "DataBatch(edge_index=[2, 3398], x=[1025, 21], y=[32], batch=[1025], ptr=[33])\n",
      "32\n",
      "DataBatch(edge_index=[2, 4666], x=[1301, 21], y=[32], batch=[1301], ptr=[33])\n",
      "32\n",
      "DataBatch(edge_index=[2, 3424], x=[884, 21], y=[32], batch=[884], ptr=[33])\n",
      "32\n",
      "DataBatch(edge_index=[2, 4120], x=[1050, 21], y=[32], batch=[1050], ptr=[33])\n",
      "32\n",
      "DataBatch(edge_index=[2, 3760], x=[991, 21], y=[32], batch=[991], ptr=[33])\n",
      "32\n",
      "DataBatch(edge_index=[2, 3828], x=[985, 21], y=[32], batch=[985], ptr=[33])\n",
      "32\n",
      "DataBatch(edge_index=[2, 4072], x=[1054, 21], y=[32], batch=[1054], ptr=[33])\n",
      "32\n",
      "DataBatch(edge_index=[2, 4054], x=[1060, 21], y=[32], batch=[1060], ptr=[33])\n",
      "32\n",
      "DataBatch(edge_index=[2, 4042], x=[1032, 21], y=[32], batch=[1032], ptr=[33])\n",
      "32\n",
      "DataBatch(edge_index=[2, 3654], x=[942, 21], y=[32], batch=[942], ptr=[33])\n",
      "32\n",
      "DataBatch(edge_index=[2, 4460], x=[1139, 21], y=[32], batch=[1139], ptr=[33])\n",
      "32\n",
      "DataBatch(edge_index=[2, 3876], x=[983, 21], y=[32], batch=[983], ptr=[33])\n",
      "32\n",
      "DataBatch(edge_index=[2, 4008], x=[1062, 21], y=[32], batch=[1062], ptr=[33])\n",
      "32\n",
      "DataBatch(edge_index=[2, 3914], x=[992, 21], y=[32], batch=[992], ptr=[33])\n",
      "32\n",
      "DataBatch(edge_index=[2, 3994], x=[1025, 21], y=[32], batch=[1025], ptr=[33])\n",
      "32\n",
      "DataBatch(edge_index=[2, 3936], x=[1097, 21], y=[32], batch=[1097], ptr=[33])\n",
      "32\n",
      "DataBatch(edge_index=[2, 4302], x=[1081, 21], y=[32], batch=[1081], ptr=[33])\n",
      "32\n",
      "DataBatch(edge_index=[2, 3050], x=[819, 21], y=[24], batch=[819], ptr=[25])\n",
      "24\n"
     ]
    }
   ],
   "source": [
    "from torch_geometric.datasets import TUDataset\n",
    "from torch_geometric.loader import DataLoader\n",
    "\n",
    "dataset = TUDataset(root='/tmp/ENZYMES', name='ENZYMES', use_node_attr=True)\n",
    "loader = DataLoader(dataset, batch_size=32, shuffle=True)\n",
    "\n",
    "for batch in loader:\n",
    "    print(batch)\n",
    "\n",
    "    print(batch.num_graphs)\n",
    "    "
   ]
  },
  {
   "cell_type": "code",
   "execution_count": 17,
   "metadata": {},
   "outputs": [
    {
     "name": "stdout",
     "output_type": "stream",
     "text": [
      "DataBatch(edge_index=[2, 3880], x=[1093, 21], y=[32], batch=[1093], ptr=[33])\n",
      "32\n",
      "torch.Size([32, 21])\n",
      "DataBatch(edge_index=[2, 4462], x=[1260, 21], y=[32], batch=[1260], ptr=[33])\n",
      "32\n",
      "torch.Size([32, 21])\n",
      "DataBatch(edge_index=[2, 4180], x=[1108, 21], y=[32], batch=[1108], ptr=[33])\n",
      "32\n",
      "torch.Size([32, 21])\n",
      "DataBatch(edge_index=[2, 3756], x=[998, 21], y=[32], batch=[998], ptr=[33])\n",
      "32\n",
      "torch.Size([32, 21])\n",
      "DataBatch(edge_index=[2, 3648], x=[971, 21], y=[32], batch=[971], ptr=[33])\n",
      "32\n",
      "torch.Size([32, 21])\n",
      "DataBatch(edge_index=[2, 4244], x=[1112, 21], y=[32], batch=[1112], ptr=[33])\n",
      "32\n",
      "torch.Size([32, 21])\n",
      "DataBatch(edge_index=[2, 3796], x=[988, 21], y=[32], batch=[988], ptr=[33])\n",
      "32\n",
      "torch.Size([32, 21])\n",
      "DataBatch(edge_index=[2, 4158], x=[1107, 21], y=[32], batch=[1107], ptr=[33])\n",
      "32\n",
      "torch.Size([32, 21])\n",
      "DataBatch(edge_index=[2, 3422], x=[899, 21], y=[32], batch=[899], ptr=[33])\n",
      "32\n",
      "torch.Size([32, 21])\n",
      "DataBatch(edge_index=[2, 4306], x=[1183, 21], y=[32], batch=[1183], ptr=[33])\n",
      "32\n",
      "torch.Size([32, 21])\n",
      "DataBatch(edge_index=[2, 4092], x=[1032, 21], y=[32], batch=[1032], ptr=[33])\n",
      "32\n",
      "torch.Size([32, 21])\n",
      "DataBatch(edge_index=[2, 3704], x=[922, 21], y=[32], batch=[922], ptr=[33])\n",
      "32\n",
      "torch.Size([32, 21])\n",
      "DataBatch(edge_index=[2, 3882], x=[982, 21], y=[32], batch=[982], ptr=[33])\n",
      "32\n",
      "torch.Size([32, 21])\n",
      "DataBatch(edge_index=[2, 4032], x=[1067, 21], y=[32], batch=[1067], ptr=[33])\n",
      "32\n",
      "torch.Size([32, 21])\n",
      "DataBatch(edge_index=[2, 4446], x=[1132, 21], y=[32], batch=[1132], ptr=[33])\n",
      "32\n",
      "torch.Size([32, 21])\n",
      "DataBatch(edge_index=[2, 3726], x=[931, 21], y=[32], batch=[931], ptr=[33])\n",
      "32\n",
      "torch.Size([32, 21])\n",
      "DataBatch(edge_index=[2, 3982], x=[1036, 21], y=[32], batch=[1036], ptr=[33])\n",
      "32\n",
      "torch.Size([32, 21])\n",
      "DataBatch(edge_index=[2, 3484], x=[885, 21], y=[32], batch=[885], ptr=[33])\n",
      "32\n",
      "torch.Size([32, 21])\n",
      "DataBatch(edge_index=[2, 3364], x=[874, 21], y=[24], batch=[874], ptr=[25])\n",
      "24\n",
      "torch.Size([24, 21])\n"
     ]
    }
   ],
   "source": [
    "from torch_geometric.utils import scatter\n",
    "from torch_geometric.datasets import TUDataset\n",
    "from torch_geometric.loader import DataLoader\n",
    "\n",
    "dataset = TUDataset(root='/tmp/ENZYMES', name='ENZYMES', use_node_attr=True)\n",
    "loader = DataLoader(dataset, batch_size=32, shuffle=True)\n",
    "\n",
    "for data in loader:\n",
    "    print(data)\n",
    "\n",
    "    print(data.num_graphs)\n",
    "\n",
    "\n",
    "    x = scatter(data.x, data.batch, dim=0, reduce='mean')\n",
    "    print(x.size())\n"
   ]
  },
  {
   "cell_type": "code",
   "execution_count": 22,
   "metadata": {},
   "outputs": [
    {
     "data": {
      "text/plain": [
       "Cora()"
      ]
     },
     "execution_count": 22,
     "metadata": {},
     "output_type": "execute_result"
    }
   ],
   "source": [
    "from torch_geometric.datasets import Planetoid\n",
    "\n",
    "dataset = Planetoid(root='/tmp/Cora', name='Cora')\n",
    "dataset"
   ]
  },
  {
   "cell_type": "code",
   "execution_count": 23,
   "metadata": {},
   "outputs": [],
   "source": [
    "import torch\n",
    "import torch.nn.functional as F\n",
    "from torch_geometric.nn import GCNConv\n",
    "\n",
    "class GCN(torch.nn.Module):\n",
    "    def __init__(self):\n",
    "        super().__init__()\n",
    "        self.conv1 = GCNConv(dataset.num_node_features, 16)\n",
    "        self.conv2 = GCNConv(16, dataset.num_classes)\n",
    "\n",
    "    def forward(self, data):\n",
    "        x, edge_index = data.x, data.edge_index\n",
    "\n",
    "        x = self.conv1(x, edge_index)\n",
    "        x = F.relu(x)\n",
    "        x = F.dropout(x, training=self.training)\n",
    "        x = self.conv2(x, edge_index)\n",
    "\n",
    "        return F.log_softmax(x, dim=1)"
   ]
  },
  {
   "cell_type": "code",
   "execution_count": 24,
   "metadata": {},
   "outputs": [],
   "source": [
    "device = torch.device('cuda' if torch.cuda.is_available() else 'cpu')\n",
    "model = GCN().to(device)\n",
    "data = dataset[0].to(device)\n",
    "optimizer = torch.optim.Adam(model.parameters(), lr=0.01, weight_decay=5e-4)\n",
    "\n",
    "model.train()\n",
    "for epoch in range(200):\n",
    "    optimizer.zero_grad()\n",
    "    out = model(data)\n",
    "    loss = F.nll_loss(out[data.train_mask], data.y[data.train_mask])\n",
    "    loss.backward()\n",
    "    optimizer.step()"
   ]
  },
  {
   "cell_type": "code",
   "execution_count": 25,
   "metadata": {},
   "outputs": [
    {
     "name": "stdout",
     "output_type": "stream",
     "text": [
      "Accuracy: 0.8210\n"
     ]
    }
   ],
   "source": [
    "model.eval()\n",
    "pred = model(data).argmax(dim=1)\n",
    "correct = (pred[data.test_mask] == data.y[data.test_mask]).sum()\n",
    "acc = int(correct) / int(data.test_mask.sum())\n",
    "print(f'Accuracy: {acc:.4f}')"
   ]
  }
 ],
 "metadata": {
  "kernelspec": {
   "display_name": "Bachelorprojekt",
   "language": "python",
   "name": "python3"
  },
  "language_info": {
   "codemirror_mode": {
    "name": "ipython",
    "version": 3
   },
   "file_extension": ".py",
   "mimetype": "text/x-python",
   "name": "python",
   "nbconvert_exporter": "python",
   "pygments_lexer": "ipython3",
   "version": "3.12.7"
  }
 },
 "nbformat": 4,
 "nbformat_minor": 2
}
